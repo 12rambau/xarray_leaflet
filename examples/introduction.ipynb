{
 "cells": [
  {
   "cell_type": "markdown",
   "metadata": {},
   "source": [
    "In order to run this notebook, you need to install the following packages:\n",
    "\n",
    "- `requests`\n",
    "- `tqdm`\n",
    "- `matplotlib`\n",
    "- `scipy`\n",
    "- `xarray-leaflet`\n",
    "\n",
    "The recommended way is: `conda install -c conda-forge requests tqdm matplotlib scipy xarray-leaflet`\n",
    "\n",
    "Note: you can replace `conda` with [`mamba`](https://github.com/QuantStack/mamba) if you don't like to wait ;-)"
   ]
  },
  {
   "cell_type": "code",
   "execution_count": null,
   "metadata": {},
   "outputs": [],
   "source": [
    "import requests\n",
    "import os\n",
    "from tqdm import tqdm\n",
    "import zipfile\n",
    "import xarray as xr\n",
    "import numpy as np\n",
    "import scipy.ndimage\n",
    "import matplotlib.pyplot as plt\n",
    "import xarray_leaflet\n",
    "from ipyleaflet import Map, basemaps"
   ]
  },
  {
   "cell_type": "markdown",
   "metadata": {},
   "source": [
    "We first download the awesome [HydroSHEDS](https://hydrosheds.org) dataset, and in particular the flow accumulation for South America. You can think of flow accumulation as a potential river flow, so we will have a visual representation of rivers, including the great Amazon river."
   ]
  },
  {
   "cell_type": "code",
   "execution_count": null,
   "metadata": {},
   "outputs": [],
   "source": [
    "url = 'https://edcintl.cr.usgs.gov/downloads/sciweb1/shared/hydrosheds/sa_30s_zip_grid/sa_acc_30s_grid.zip'\n",
    "filename = os.path.basename(url)\n",
    "name = filename[:filename.find('_grid')]\n",
    "adffile = name + '/' + name + '/w001001.adf'\n",
    "\n",
    "if not os.path.exists(adffile):\n",
    "    r = requests.get(url, stream=True)\n",
    "    with open(filename, 'wb') as f:\n",
    "        total_length = int(r.headers.get('content-length'))\n",
    "        for chunk in tqdm(r.iter_content(chunk_size=1024), total=(total_length/1024) + 1):\n",
    "            if chunk:\n",
    "                f.write(chunk)\n",
    "                f.flush()\n",
    "    zip = zipfile.ZipFile(filename)\n",
    "    zip.extractall('.')"
   ]
  },
  {
   "cell_type": "markdown",
   "metadata": {},
   "source": [
    "Let's open the box and see what's in there."
   ]
  },
  {
   "cell_type": "code",
   "execution_count": null,
   "metadata": {},
   "outputs": [],
   "source": [
    "da = xr.open_rasterio(adffile)\n",
    "da"
   ]
  },
  {
   "cell_type": "markdown",
   "metadata": {},
   "source": [
    "We can see that the projection is `EPSG:4326` (aka `WGS84`), which is the only projection currently supported by `xarray-leaflet`. Here the coordinate `x` corresponds to longitudes, and `y` to latitudes. There `band` coordinate is pretty useless. The only preprocessing we will do is replacing `NaN` values with zeros."
   ]
  },
  {
   "cell_type": "code",
   "execution_count": null,
   "metadata": {},
   "outputs": [],
   "source": [
    "nan = da.attrs['nodatavals'][0]\n",
    "da = da.sel(band=1)\n",
    "da = xr.where(da==nan, 0, da)"
   ]
  },
  {
   "cell_type": "markdown",
   "metadata": {},
   "source": [
    "`xarray-leaflet` has two modes, one is for static maps and the other for dynamic maps. By dynamic we mean that you won't see the same thing depending on the current map view. For instance, if you zoom in you might want to show details that you would otherwise be hidden. So the map really adapts to where you look on the Earth. The downside of dynamic maps is that you will see more flickering as you interact with the map, because tiles have to be refreshed as soon as you drag or zoom.\n",
    "\n",
    "On the contrary, static maps won't be as reactive to the location. Of course they will refine as you zoom in, but they won't change dramatically. On the other hand, they are rendered really smoothly.\n",
    "\n",
    "This example can be configured to work both in static or dynamic mode. You can change the following `dynamic` variale to `True` or `False` to switch between the two modes (you will have to re-execute the cells to take it into account)."
   ]
  },
  {
   "cell_type": "code",
   "execution_count": null,
   "metadata": {},
   "outputs": [],
   "source": [
    "# you can change the value of `dynamic` to True or False and see the difference in the interaction with the map\n",
    "\n",
    "dynamic = True\n",
    "if not dynamic:\n",
    "    global_vmin = np.min(da).values\n",
    "    global_vmax = np.max(da).values"
   ]
  },
  {
   "cell_type": "markdown",
   "metadata": {},
   "source": [
    "There are 3 stages in `xarray-leaflet` where you can apply transformations to your data. The first one operates on the visible part. Often, this is where you want to apply dynamic transformations. Transformations are Python functions accepting the data as first argument and optionally parameters from the previous transformations. Because `transform0` is the first transformation, there is no other input parameters appart from the `DataArray`. Here we return the minimum and maximum values present in the data."
   ]
  },
  {
   "cell_type": "code",
   "execution_count": null,
   "metadata": {},
   "outputs": [],
   "source": [
    "def transform0(da):\n",
    "    if dynamic:\n",
    "        vmin = np.min(da).values\n",
    "        vmax = np.max(da).values\n",
    "    else:\n",
    "        vmin = global_vmin\n",
    "        vmax = global_vmax\n",
    "    return da, vmin, vmax"
   ]
  },
  {
   "cell_type": "markdown",
   "metadata": {},
   "source": [
    "The second transformation applies to the data contained in each Leaflet tile before reprojection. Reprojection needs your data to fit into memory, so you may want to downsample your data and keep approximately the same number of points as there are in a tile (256 x 256). In this transformation you also want to have you data normalized between 0 and 1, which we can do thanks to the `vmin` and `vmax` values that we got from the previous transformation."
   ]
  },
  {
   "cell_type": "code",
   "execution_count": null,
   "metadata": {},
   "outputs": [],
   "source": [
    "def transform1(xr_tile, vmin, vmax):\n",
    "    ny, nx = xr_tile.shape\n",
    "    wx = nx // (256 // 2)\n",
    "    wy = ny // (256 // 2)\n",
    "    if wx > 0 and wy > 0:\n",
    "        xr_tile = xr_tile.coarsen(x=wx, y=wy, boundary=\"trim\").max()\n",
    "    xr_tile = (xr_tile - vmin) / (vmax - vmin)\n",
    "    return xr_tile"
   ]
  },
  {
   "cell_type": "markdown",
   "metadata": {},
   "source": [
    "In the third and last transformation, the data is reprojected to Web Mercator (the projection used in Leaflet by default). This is the last opportunity to transform your data before saving it to a `png` file. That's often when you want to apply styling. Here we make the rivers appear thicker and we reduce the amplitude with a square root. You also need to choose a colormap."
   ]
  },
  {
   "cell_type": "code",
   "execution_count": null,
   "metadata": {},
   "outputs": [],
   "source": [
    "def transform2(np_tile):\n",
    "    radius = 2\n",
    "    circle = np.zeros((2*radius+1, 2*radius+1)).astype('uint8')\n",
    "    y, x = np.ogrid[-radius:radius+1,-radius:radius+1]\n",
    "    index = x**2 + y**2 <= radius**2\n",
    "    circle[index] = 1\n",
    "    np_tile = np.sqrt(np_tile)\n",
    "    np_tile = scipy.ndimage.maximum_filter(np_tile, footprint=circle)\n",
    "    np_tile = plt.cm.inferno(np_tile)\n",
    "    return np_tile"
   ]
  },
  {
   "cell_type": "markdown",
   "metadata": {},
   "source": [
    "We are almost done, we just need to create a map before passing it to our `DataArray`."
   ]
  },
  {
   "cell_type": "code",
   "execution_count": null,
   "metadata": {},
   "outputs": [],
   "source": [
    "m = Map(center=[-20, -60], zoom=3, basemap=basemaps.CartoDB.DarkMatter)\n",
    "m"
   ]
  },
  {
   "cell_type": "markdown",
   "metadata": {},
   "source": [
    "To show our data on the map, we call `.leaflet.plot()` on our `DataArray`, and pass as parameters the map, the name on the lat/lon dimensions, the transformation functions, and the `dynamic` value. We get back a layer, that we can further control with e.g. a slider to set the opacity."
   ]
  },
  {
   "cell_type": "code",
   "execution_count": null,
   "metadata": {
    "scrolled": true
   },
   "outputs": [],
   "source": [
    "l = da.leaflet.plot(m, lat_dim='y', lon_dim='x',\n",
    "                    transform0=transform0,\n",
    "                    transform1=transform1,\n",
    "                    transform2=transform2,\n",
    "                    dynamic = dynamic)\n",
    "l.interact(opacity=(0.0,1.0,0.1))"
   ]
  },
  {
   "cell_type": "markdown",
   "metadata": {},
   "source": [
    "You can now drag and zoom, explore different locations, and if you chose `dynamic=True` you should see details being revealed."
   ]
  }
 ],
 "metadata": {
  "kernelspec": {
   "display_name": "Python 3",
   "language": "python",
   "name": "python3"
  },
  "language_info": {
   "codemirror_mode": {
    "name": "ipython",
    "version": 3
   },
   "file_extension": ".py",
   "mimetype": "text/x-python",
   "name": "python",
   "nbconvert_exporter": "python",
   "pygments_lexer": "ipython3",
   "version": "3.8.2"
  }
 },
 "nbformat": 4,
 "nbformat_minor": 4
}
